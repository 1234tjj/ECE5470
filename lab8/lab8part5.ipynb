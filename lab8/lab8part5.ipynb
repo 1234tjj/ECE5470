{
 "cells": [
  {
   "cell_type": "markdown",
   "metadata": {
    "id": "SJyB7Oeg2_yX"
   },
   "source": [
    "<h2>PyTorch example of a simple convolution network model <br>\n",
    "Model P2</h2>\n",
    "Trained and tested using the MNIST dataset\n",
    "\n",
    "Taken from: https://github.com/yunjey/pytorch-tutorial/blob/master/tutorials/02-intermediate/convolutional_neural_network/main.py#L35-L56\n",
    "\n",
    "Initialization"
   ]
  },
  {
   "cell_type": "code",
   "execution_count": 2,
   "metadata": {
    "id": "-5mF8IK32_yd"
   },
   "outputs": [],
   "source": [
    "import time\n",
    "import torch \n",
    "import torch.nn as nn\n",
    "import torchvision\n",
    "import torchvision.transforms as transforms\n",
    "\n",
    "from matplotlib import pyplot as plt\n",
    "import numpy as np\n",
    "from datetime import datetime\n",
    "from sklearn.metrics import confusion_matrix\n",
    "import itertools\n",
    "\n",
    "import torchvision.datasets as datasets\n",
    "\n",
    "%matplotlib inline\n",
    "from matplotlib.pyplot import imshow\n",
    "import numpy as np\n",
    "from PIL import Image\n",
    "\n",
    "import pandas as pd\n",
    "from torch.utils.data.dataset import Dataset\n",
    "from torchvision import transforms\n",
    "\n",
    "# Device configuration\n",
    "device = torch.device('cuda:0' if torch.cuda.is_available() else 'cpu')\n",
    "\n",
    "# MNIST dataset\n",
    "train_dataset = torchvision.datasets.MNIST(root='./data/',\n",
    "                                           train=True, \n",
    "                                           transform=transforms.ToTensor(),\n",
    "                                           download=True)\n",
    "\n",
    "test_dataset = torchvision.datasets.MNIST(root='./data/',\n",
    "                                          train=False, \n",
    "                                          transform= transforms.ToTensor())\n",
    "                                        "
   ]
  },
  {
   "cell_type": "markdown",
   "metadata": {
    "id": "WiuDYatGKuwi"
   },
   "source": [
    "# Utilities\n",
    "These functions provide Learning curve plots and learning progress reports "
   ]
  },
  {
   "cell_type": "code",
   "execution_count": 3,
   "metadata": {
    "id": "rcJpiG9QUcax"
   },
   "outputs": [],
   "source": [
    "'''Learning Curve Plot Utility'''\n",
    "def plot(train_loss_history, val_loss_history, train_acc_history, val_acc_history):\n",
    "  fig, axs = plt.subplots(1, 2, figsize=(11,5))\n",
    "\n",
    "  ax = axs[0]\n",
    "  ax.set_title(\"Model Loss\", fontsize=12)\n",
    "  ax.plot(train_loss_history, label=\"Training\")\n",
    "  ax.plot(val_loss_history,   label=\"Validation\")\n",
    "  ax.set_xlabel(\"Epoch\",        fontsize=12)\n",
    "  ax.set_ylabel(\"Average loss\", fontsize=12)\n",
    "  ax.legend(loc=\"best\",         fontsize=12)\n",
    "\n",
    "  ax = axs[1]\n",
    "  ax.set_title(\"Model Accuracy\", fontsize=12)\n",
    "  ax.plot(train_acc_history, label=\"Training\")\n",
    "  ax.plot(val_acc_history,   label=\"Validation\")\n",
    "  ax.set_xlabel(\"Epoch\",        fontsize=12)\n",
    "  ax.set_ylabel(\"Accuracy\",     fontsize=12)\n",
    "  ax.set_ylim(0,1)\n",
    "  ax.legend(loc=\"best\",         fontsize=12)"
   ]
  },
  {
   "cell_type": "code",
   "execution_count": 4,
   "metadata": {
    "id": "GGfqtNuSSHuL"
   },
   "outputs": [],
   "source": [
    "'''Learning progress utility'''\n",
    "def log_progress(running_loss, curr_batch, batch_size, curr_epoch, total_epochs, dataloader):\n",
    "    \"\"\"\n",
    "    Prints message logging progress through training.\n",
    "    \"\"\"\n",
    "    progress = float(curr_batch + 1)/(float(len(dataloader.dataset)) / batch_size)\n",
    "    log = \"EPOCH [{}/{}]. Running Loss: {} Progress: {} % \".format(\n",
    "        curr_epoch + 1, total_epochs, round(running_loss, 2), round(progress * 100, 2))\n",
    "    print(log)"
   ]
  },
  {
   "cell_type": "code",
   "execution_count": 5,
   "metadata": {},
   "outputs": [],
   "source": [
    "#  preserntation for a confusion matrix\n",
    "\n",
    "def plot_confusion_matrix(cm, classes,\n",
    "                          normalize=False,\n",
    "                          title='Confusion matrix',\n",
    "                          cmap=plt.cm.Blues):\n",
    "    \"\"\"\n",
    "    This function prints and plots the confusion matrix.\n",
    "    Normalization can be applied by setting `normalize=True`.\n",
    "    \"\"\"\n",
    "    if normalize:\n",
    "        cm = cm.astype('float') / cm.sum(axis=1)[:, np.newaxis]\n",
    "        print(\"Normalized confusion matrix\")\n",
    "    else:\n",
    "        print('Confusion matrix, without normalization')\n",
    "\n",
    "    #print(cm)\n",
    "\n",
    "    plt.imshow(cm, interpolation='nearest', cmap=cmap)\n",
    "    plt.title(title)\n",
    "    plt.colorbar()\n",
    "    tick_marks = np.arange(len(classes))\n",
    "    plt.xticks(tick_marks, classes, rotation=45)\n",
    "    plt.yticks(tick_marks, classes)\n",
    "\n",
    "    fmt = '.2f' if normalize else 'd'\n",
    "    thresh = cm.max() / 2.\n",
    "    for i, j in itertools.product(range(cm.shape[0]), range(cm.shape[1])):\n",
    "        plt.text(j, i, format(cm[i, j], fmt),\n",
    "                 horizontalalignment=\"center\",\n",
    "                 color=\"white\" if cm[i, j] > thresh else \"black\")\n",
    "\n",
    "    plt.ylabel('True label')\n",
    "    plt.xlabel('Predicted label')\n",
    "    plt.tight_layout()\n"
   ]
  },
  {
   "cell_type": "markdown",
   "metadata": {},
   "source": [
    "<h3> Hyperparameters </h3>"
   ]
  },
  {
   "cell_type": "code",
   "execution_count": 6,
   "metadata": {
    "id": "-39H6PNyQI4x"
   },
   "outputs": [],
   "source": [
    "# Hyperparameters\n",
    "num_epochs = 6\n",
    "num_classes = 10\n",
    "batch_size = 100\n",
    "learning_rate = 0.0001"
   ]
  },
  {
   "cell_type": "markdown",
   "metadata": {},
   "source": [
    "<h3> Data Loader</h3>"
   ]
  },
  {
   "cell_type": "code",
   "execution_count": 7,
   "metadata": {
    "id": "xLGXeFkz2_yk"
   },
   "outputs": [],
   "source": [
    "# Data loader\n",
    "train_loader = torch.utils.data.DataLoader(dataset=train_dataset,\n",
    "                                           batch_size=batch_size, \n",
    "                                           shuffle=True)\n",
    "\n",
    "test_loader = torch.utils.data.DataLoader(dataset=test_dataset,\n",
    "                                          batch_size=batch_size, \n",
    "                                          shuffle=False)"
   ]
  },
  {
   "cell_type": "markdown",
   "metadata": {
    "id": "zpIzFubFLfBG"
   },
   "source": [
    "## Model P2\n"
   ]
  },
  {
   "cell_type": "code",
   "execution_count": 8,
   "metadata": {
    "id": "n7nXTSdg2_yn"
   },
   "outputs": [],
   "source": [
    "# Model\n",
    "# Convolutional neural network (two convolutional layers)\n",
    "class ConvNet(nn.Module):\n",
    "    def __init__(self, num_classes=10):\n",
    "        super(ConvNet, self).__init__()\n",
    "        self.layer1 = nn.Sequential(\n",
    "            nn.Conv2d(1, 16, kernel_size=5, stride=1, padding=2),\n",
    "            nn.BatchNorm2d(16),\n",
    "            nn.ReLU(),\n",
    "            nn.MaxPool2d(kernel_size=2, stride=2)\n",
    "            )\n",
    "        self.layer2 = nn.Sequential(\n",
    "            nn.Conv2d(16, 32, kernel_size=5, stride=1, padding=2),\n",
    "            nn.BatchNorm2d(32),\n",
    "            nn.ReLU(),\n",
    "            nn.MaxPool2d(kernel_size=2, stride=2))\n",
    "        self.fc = nn.Linear(7*7*32, num_classes)\n",
    "        \n",
    "    def forward(self, x):\n",
    "        out = self.layer1(x)\n",
    "        out = self.layer2(out)\n",
    "        out = out.reshape(out.size(0), -1)\n",
    "        out = self.fc(out)\n",
    "        return out\n",
    "\n",
    "model = ConvNet(num_classes).to(device)"
   ]
  },
  {
   "cell_type": "markdown",
   "metadata": {
    "id": "DQhKowFgy1ty"
   },
   "source": [
    "# Training "
   ]
  },
  {
   "cell_type": "code",
   "execution_count": 9,
   "metadata": {
    "colab": {
     "base_uri": "https://localhost:8080/",
     "height": 1000
    },
    "id": "nL5ha6WXRbYp",
    "outputId": "4783d15b-cb77-4604-971f-0d7f513ea7e2"
   },
   "outputs": [
    {
     "name": "stdout",
     "output_type": "stream",
     "text": [
      "EPOCH [1/6]. Running Loss: 186.29 Progress: 33.33 % \n",
      "EPOCH [1/6]. Running Loss: 250.22 Progress: 66.67 % \n",
      "EPOCH [1/6]. Running Loss: 291.31 Progress: 100.0 % \n",
      "Train Avg. Loss: [0.1451] Acc: 0.8909 on 60000.0 images\n",
      "Validating...\n",
      "Val Avg. Loss: [0.2475] Acc: 0.9614 on 10000.0 images\n",
      "\n",
      "EPOCH [2/6]. Running Loss: 30.39 Progress: 33.33 % \n",
      "EPOCH [2/6]. Running Loss: 55.98 Progress: 66.67 % \n",
      "EPOCH [2/6]. Running Loss: 77.64 Progress: 100.0 % \n",
      "Train Avg. Loss: [0.1207] Acc: 0.9681 on 60000.0 images\n",
      "Validating...\n",
      "Val Avg. Loss: [0.1191] Acc: 0.9752 on 10000.0 images\n",
      "\n",
      "EPOCH [3/6]. Running Loss: 17.72 Progress: 33.33 % \n",
      "EPOCH [3/6]. Running Loss: 35.3 Progress: 66.67 % \n",
      "EPOCH [3/6]. Running Loss: 51.34 Progress: 100.0 % \n",
      "Train Avg. Loss: [0.0801] Acc: 0.9779 on 60000.0 images\n",
      "Validating...\n",
      "Val Avg. Loss: [0.0703] Acc: 0.9814 on 10000.0 images\n",
      "\n",
      "EPOCH [4/6]. Running Loss: 13.89 Progress: 33.33 % \n",
      "EPOCH [4/6]. Running Loss: 27.06 Progress: 66.67 % \n",
      "EPOCH [4/6]. Running Loss: 40.19 Progress: 100.0 % \n",
      "Train Avg. Loss: [0.0131] Acc: 0.9822 on 60000.0 images\n",
      "Validating...\n",
      "Val Avg. Loss: [0.0628] Acc: 0.9824 on 10000.0 images\n",
      "\n",
      "EPOCH [5/6]. Running Loss: 12.07 Progress: 33.33 % \n",
      "EPOCH [5/6]. Running Loss: 23.29 Progress: 66.67 % \n",
      "EPOCH [5/6]. Running Loss: 33.77 Progress: 100.0 % \n",
      "Train Avg. Loss: [0.0536] Acc: 0.9847 on 60000.0 images\n",
      "Validating...\n",
      "Val Avg. Loss: [0.0366] Acc: 0.9853 on 10000.0 images\n",
      "\n",
      "EPOCH [6/6]. Running Loss: 10.46 Progress: 33.33 % \n",
      "EPOCH [6/6]. Running Loss: 20.3 Progress: 66.67 % \n",
      "EPOCH [6/6]. Running Loss: 29.46 Progress: 100.0 % \n",
      "Train Avg. Loss: [0.0388] Acc: 0.9865 on 60000.0 images\n",
      "Validating...\n",
      "Val Avg. Loss: [0.0435] Acc: 0.9855 on 10000.0 images\n",
      "\n",
      "Time Elapsed: 326.241218 seconds\n"
     ]
    }
   ],
   "source": [
    "# Loss and optimizer\n",
    "criterion = nn.CrossEntropyLoss()\n",
    "optimizer = torch.optim.Adam(model.parameters(), lr=learning_rate)\n",
    "\n",
    "# Keep track of average losses, training accuracy and validation accuracy for each epoch\n",
    "train_loss_history = np.zeros(num_epochs)\n",
    "train_acc_history  = np.zeros(num_epochs)\n",
    "val_loss_history   = np.zeros(num_epochs)\n",
    "val_acc_history    = np.zeros(num_epochs)\n",
    "\n",
    "start_time = datetime.now()\n",
    "\n",
    "for epoch in range(num_epochs):\n",
    "    \n",
    "    # Place network in training mode\n",
    "    model.train()\n",
    "    \n",
    "    # Initialize running epoch loss and number correctly classified\n",
    "    running_loss   = 0.0\n",
    "    num_correct    = 0.0\n",
    "    total_images   = 0.0\n",
    "    \n",
    "    for batch_num, (inputs, labels) in enumerate(train_loader):\n",
    "        # [inputs] and [labels] is one batch of images and their classes\n",
    "        inputs = inputs.to(device)\n",
    "        labels = labels.to(device)\n",
    "        \n",
    "        # Forward pass\n",
    "        outputs = model(inputs)\n",
    "        loss = criterion(outputs, labels)\n",
    "        \n",
    "        # Backward and optimize\n",
    "        optimizer.zero_grad()\n",
    "        loss.backward()\n",
    "        optimizer.step()\n",
    "\n",
    "        # Update statistics for this batch\n",
    "        curr_loss = loss.item()\n",
    "        _, preds = torch.max(outputs, 1)\n",
    "        curr_images = labels.cpu().data.numpy().size\n",
    "        curr_correct = torch.sum(preds == labels.data.reshape(-1))\n",
    "\n",
    "        # Update running statistics for this epoch\n",
    "        running_loss += curr_loss\n",
    "        num_correct += curr_correct\n",
    "        total_images += curr_images\n",
    "\n",
    "        # Log Progress every 200 batches\n",
    "        if (batch_num + 1) % 200 == 0:\n",
    "          log_progress(running_loss, batch_num, batch_size, epoch, num_epochs, train_loader)\n",
    "\n",
    "    # Update statistics for epoch\n",
    "    train_loss_history[epoch] = curr_loss #running_loss / total_images\n",
    "    train_acc_history[epoch]  = float(num_correct)  / float(total_images)\n",
    "    print(\"Train Avg. Loss: [{}] Acc: {} on {} images\".format(\n",
    "        round(train_loss_history[epoch],4), round(train_acc_history[epoch],4), total_images) )\n",
    "    \n",
    "    # ============================ Validation ==============================\n",
    "    print(\"Validating...\")\n",
    "    # Place network in testing mode (won't need to keep track of gradients)\n",
    "    model.eval()\n",
    "    \n",
    "    running_loss   = 0.0\n",
    "    num_correct    = 0.0\n",
    "    total_images   = 0.0\n",
    "    \n",
    "    for batch_num, (inputs, labels) in enumerate(test_loader):\n",
    "        inputs = inputs.to(device)\n",
    "        labels = labels.to(device)\n",
    "\n",
    "        # Propagate batch through network\n",
    "        outputs  = model(inputs)\n",
    "        loss     = criterion(outputs, labels.squeeze())\n",
    "        _, preds = torch.max(outputs, 1)\n",
    "        \n",
    "        # Update statistics for this batch\n",
    "        running_loss  += loss.item()\n",
    "        num_correct   += torch.sum(preds == labels.data.reshape(-1))\n",
    "        total_images  += labels.cpu().data.numpy().size\n",
    "        \n",
    "        # Log Progress every 200 batches\n",
    "        if (batch_num + 1) % 200 == 0:\n",
    "          log_progress(running_loss, batch_num, batch_size, epoch, num_epochs, test_loader)    \n",
    "\n",
    "    # Update statistics for validation data\n",
    "    val_loss_history[epoch] = loss.item() #running_loss / total_images\n",
    "    val_acc_history[epoch]  = float(num_correct)  / float(total_images) \n",
    "    print(\"Val Avg. Loss: [{}] Acc: {} on {} images\\n\".format(\n",
    "        round(val_loss_history[epoch],4), val_acc_history[epoch], total_images))\n",
    "    \n",
    "print(\"Time Elapsed: {} seconds\".format((datetime.now() - start_time).total_seconds()))"
   ]
  },
  {
   "cell_type": "markdown",
   "metadata": {},
   "source": [
    "## Learning curve plots"
   ]
  },
  {
   "cell_type": "code",
   "execution_count": 11,
   "metadata": {},
   "outputs": [
    {
     "data": {
      "image/png": "[encoded data removed]",
      "text/plain": [
       "<Figure size 1100x500 with 2 Axes>"
      ]
     },
     "metadata": {},
     "output_type": "display_data"
    }
   ],
   "source": [
    "plot(train_loss_history, val_loss_history, train_acc_history, val_acc_history)"
   ]
  },
  {
   "cell_type": "markdown",
   "metadata": {},
   "source": [
    "<h2> Testing </h2>"
   ]
  },
  {
   "cell_type": "code",
   "execution_count": 12,
   "metadata": {},
   "outputs": [],
   "source": [
    "\"\"\" Custom datatset loader\n",
    "    based on https://github.com/utkuozbulak/pytorch-custom-dataset-examples\n",
    "\"\"\"\n",
    "\n",
    "class SimpleDataset(Dataset):\n",
    "    def __init__(self, data_path, csv_name, transform = None ):\n",
    "        \"\"\"\n",
    "        Args:\n",
    "            data_path (string): path to the folder where images and csv files are located\n",
    "            csv_name (string): name of the csv lablel file\n",
    "            transform: pytorch transforms for transforms and tensor conversion\n",
    "        \"\"\"\n",
    "        # Set path\n",
    "        self.data_path = data_path\n",
    "        # Transforms\n",
    "        self.transform = transform\n",
    "        # Read the csv file\n",
    "        self.data_info = pd.read_csv(data_path + csv_name, header=None)\n",
    "        # First column contains the image paths\n",
    "        self.image_arr = np.asarray(self.data_info.iloc[:, 0])\n",
    "        # Second column is the labels\n",
    "        self.label_arr = np.asarray(self.data_info.iloc[:, 1])\n",
    "        # Calculate len\n",
    "        self.data_len = len(self.data_info.index)\n",
    "        \n",
    "\n",
    "    def __getitem__(self, index):\n",
    "        # Get image name from the pandas df\n",
    "        single_image_name = self.image_arr[index]\n",
    "        # Open image\n",
    "        img_as_img = Image.open(self.data_path + single_image_name)\n",
    "        if self.transform is not None:\n",
    "              img_as_img = self.transform(img_as_img)\n",
    "\n",
    "        # Get label(class) of the image based on the cropped pandas column\n",
    "        single_image_label = self.label_arr[index]\n",
    "        #convert to tensor to be consistent with MNIST dataset\n",
    "        single_image_label = torch.LongTensor( [ single_image_label ] )[0]\n",
    "        return (img_as_img, single_image_label)\n",
    "\n",
    "    def __len__(self):\n",
    "        return self.data_len"
   ]
  },
  {
   "cell_type": "code",
   "execution_count": 18,
   "metadata": {},
   "outputs": [],
   "source": [
    "test_dataset = SimpleDataset(\"./idata/\", \"labels.csv\", transforms.ToTensor())"
   ]
  },
  {
   "cell_type": "code",
   "execution_count": 19,
   "metadata": {},
   "outputs": [],
   "source": [
    "# Data Loader\n",
    "test_loader = torch.utils.data.DataLoader(dataset=test_dataset,\n",
    "                                          batch_size=batch_size, \n",
    "                                          shuffle=False)"
   ]
  },
  {
   "cell_type": "code",
   "execution_count": 20,
   "metadata": {},
   "outputs": [
    {
     "name": "stdout",
     "output_type": "stream",
     "text": [
      "Test Accuracy of the model on the 10000 test images: 58.0 %\n",
      "Test Loss of the model on the 10000 test images: 1.4195616245269775\n",
      "Time Elapsed: 0.068935 seconds\n"
     ]
    }
   ],
   "source": [
    "# Test the model\n",
    "start_time = datetime.now()\n",
    "ytest = []\n",
    "rtest = np.ones((0,10))\n",
    "model.eval()  # eval mode (batchnorm uses moving mean/variance instead of mini-batch mean/variance)\n",
    "\n",
    "# Define loss function\n",
    "criterion = torch.nn.CrossEntropyLoss()\n",
    "\n",
    "# Initialize variables to calculate total loss\n",
    "total_loss = 0\n",
    "\n",
    "with torch.no_grad():\n",
    "    correct = 0\n",
    "    total = 0\n",
    "    for images, labels in test_loader:\n",
    "        ytest = np.append(ytest, labels)\n",
    "        images = images.to(device)\n",
    "        labels = labels.to(device)\n",
    "        outputs = model(images)\n",
    "\n",
    "        # Calculate loss\n",
    "        loss = criterion(outputs, labels)\n",
    "        total_loss += loss.item()  # Accumulate the loss for averaging later\n",
    "        \n",
    "        _, predicted = torch.max(outputs.data, 1)\n",
    "        total += labels.size(0)\n",
    "        correct += (predicted == labels).sum().item()\n",
    "        rtest = np.append(rtest, outputs, axis=0)\n",
    "\n",
    "# Calculate average loss over the entire test set\n",
    "average_loss = total_loss / len(test_loader)\n",
    "\n",
    "print('Test Accuracy of the model on the 10000 test images: {} %'.format(100 * correct / total))\n",
    "print('Test Loss of the model on the 10000 test images: {}'.format(average_loss))\n",
    "print(\"Time Elapsed: {} seconds\".format((datetime.now() - start_time).total_seconds()))"
   ]
  },
  {
   "cell_type": "code",
   "execution_count": 21,
   "metadata": {},
   "outputs": [
    {
     "name": "stdout",
     "output_type": "stream",
     "text": [
      "Confusion matrix, without normalization\n"
     ]
    },
    {
     "data": {
      "image/png": "[encoded data removed]",
      "text/plain": [
       "<Figure size 640x480 with 2 Axes>"
      ]
     },
     "metadata": {},
     "output_type": "display_data"
    }
   ],
   "source": [
    "cfm = confusion_matrix(ytest, np.argmax (rtest,axis=1))\n",
    "plot_confusion_matrix(cfm, classes=range(10), \n",
    "                      title='Confusion matrix for MNIST')"
   ]
  },
  {
   "cell_type": "code",
   "execution_count": 17,
   "metadata": {},
   "outputs": [],
   "source": [
    "# Save the model checkpoint\n",
    "torch.save(model.state_dict(), 'model.ckpt')"
   ]
  }
 ],
 "metadata": {
  "accelerator": "GPU",
  "colab": {
   "collapsed_sections": [],
   "name": "MNIST_Stabile.ipynb",
   "provenance": [],
   "toc_visible": true
  },
  "kernelspec": {
   "display_name": "Python 3 (ipykernel)",
   "language": "python",
   "name": "python3"
  },
  "language_info": {
   "codemirror_mode": {
    "name": "ipython",
    "version": 3
   },
   "file_extension": ".py",
   "mimetype": "text/x-python",
   "name": "python",
   "nbconvert_exporter": "python",
   "pygments_lexer": "ipython3",
   "version": "3.10.10"
  }
 },
 "nbformat": 4,
 "nbformat_minor": 4
}
