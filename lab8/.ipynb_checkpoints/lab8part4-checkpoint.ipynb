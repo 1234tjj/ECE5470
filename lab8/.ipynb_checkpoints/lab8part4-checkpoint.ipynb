{
 "cells": [
  {
   "cell_type": "markdown",
   "metadata": {
    "id": "SJyB7Oeg2_yX"
   },
   "source": [
    "<h2>PyTorch example of a simple convolution network model <br>\n",
    "Model Lab 8 Part 4</h2>\n",
    "Trained and tested using the MNIST dataset\n",
    "\n",
    "Taken from: https://github.com/yunjey/pytorch-tutorial/blob/master/tutorials/02-intermediate/convolutional_neural_network/main.py#L35-L56\n",
    "\n",
    "Initialization"
   ]
  },
  {
   "cell_type": "code",
   "execution_count": 1,
   "metadata": {
    "id": "-5mF8IK32_yd"
   },
   "outputs": [],
   "source": [
    "import time\n",
    "import torch \n",
    "import torch.nn as nn\n",
    "import torchvision\n",
    "import torchvision.transforms as transforms\n",
    "\n",
    "from matplotlib import pyplot as plt\n",
    "import numpy as np\n",
    "from datetime import datetime\n",
    "from sklearn.metrics import confusion_matrix\n",
    "import itertools\n",
    "\n",
    "# Device configuration\n",
    "device = torch.device('cuda:0' if torch.cuda.is_available() else 'cpu')\n",
    "\n",
    "# MNIST dataset\n",
    "train_dataset = torchvision.datasets.MNIST(root='./data/',\n",
    "                                           train=True, \n",
    "                                           transform=transforms.ToTensor(),\n",
    "                                           download=True)\n",
    "\n",
    "test_dataset = torchvision.datasets.MNIST(root='./data/',\n",
    "                                          train=False, \n",
    "                                          transform= transforms.ToTensor())\n",
    "                                        "
   ]
  },
  {
   "cell_type": "markdown",
   "metadata": {
    "id": "WiuDYatGKuwi"
   },
   "source": [
    "# Utilities\n",
    "These functions provide Learning curve plots and learning progress reports "
   ]
  },
  {
   "cell_type": "code",
   "execution_count": 2,
   "metadata": {
    "id": "rcJpiG9QUcax"
   },
   "outputs": [],
   "source": [
    "'''Learning Curve Plot Utility'''\n",
    "def plot(train_loss_history, val_loss_history, train_acc_history, val_acc_history):\n",
    "  fig, axs = plt.subplots(1, 2, figsize=(11,5))\n",
    "\n",
    "  ax = axs[0]\n",
    "  ax.set_title(\"Model Loss\", fontsize=12)\n",
    "  ax.plot(train_loss_history, label=\"Training\")\n",
    "  ax.plot(val_loss_history,   label=\"Validation\")\n",
    "  ax.set_xlabel(\"Epoch\",        fontsize=12)\n",
    "  ax.set_ylabel(\"Average loss\", fontsize=12)\n",
    "  ax.legend(loc=\"best\",         fontsize=12)\n",
    "\n",
    "  ax = axs[1]\n",
    "  ax.set_title(\"Model Accuracy\", fontsize=12)\n",
    "  ax.plot(train_acc_history, label=\"Training\")\n",
    "  ax.plot(val_acc_history,   label=\"Validation\")\n",
    "  ax.set_xlabel(\"Epoch\",        fontsize=12)\n",
    "  ax.set_ylabel(\"Accuracy\",     fontsize=12)\n",
    "  ax.set_ylim(0,1)\n",
    "  ax.legend(loc=\"best\",         fontsize=12)"
   ]
  },
  {
   "cell_type": "code",
   "execution_count": 3,
   "metadata": {
    "id": "GGfqtNuSSHuL"
   },
   "outputs": [],
   "source": [
    "'''Learning progress utility'''\n",
    "def log_progress(running_loss, curr_batch, batch_size, curr_epoch, total_epochs, dataloader):\n",
    "    \"\"\"\n",
    "    Prints message logging progress through training.\n",
    "    \"\"\"\n",
    "    progress = float(curr_batch + 1)/(float(len(dataloader.dataset)) / batch_size)\n",
    "    log = \"EPOCH [{}/{}]. Running Loss: {} Progress: {} % \".format(\n",
    "        curr_epoch + 1, total_epochs, round(running_loss, 2), round(progress * 100, 2))\n",
    "    print(log)"
   ]
  },
  {
   "cell_type": "code",
   "execution_count": 4,
   "metadata": {},
   "outputs": [],
   "source": [
    "#  preserntation for a confusion matrix\n",
    "\n",
    "def plot_confusion_matrix(cm, classes,\n",
    "                          normalize=False,\n",
    "                          title='Confusion matrix',\n",
    "                          cmap=plt.cm.Blues):\n",
    "    \"\"\"\n",
    "    This function prints and plots the confusion matrix.\n",
    "    Normalization can be applied by setting `normalize=True`.\n",
    "    \"\"\"\n",
    "    if normalize:\n",
    "        cm = cm.astype('float') / cm.sum(axis=1)[:, np.newaxis]\n",
    "        print(\"Normalized confusion matrix\")\n",
    "    else:\n",
    "        print('Confusion matrix, without normalization')\n",
    "\n",
    "    #print(cm)\n",
    "\n",
    "    plt.imshow(cm, interpolation='nearest', cmap=cmap)\n",
    "    plt.title(title)\n",
    "    plt.colorbar()\n",
    "    tick_marks = np.arange(len(classes))\n",
    "    plt.xticks(tick_marks, classes, rotation=45)\n",
    "    plt.yticks(tick_marks, classes)\n",
    "\n",
    "    fmt = '.2f' if normalize else 'd'\n",
    "    thresh = cm.max() / 2.\n",
    "    for i, j in itertools.product(range(cm.shape[0]), range(cm.shape[1])):\n",
    "        plt.text(j, i, format(cm[i, j], fmt),\n",
    "                 horizontalalignment=\"center\",\n",
    "                 color=\"white\" if cm[i, j] > thresh else \"black\")\n",
    "\n",
    "    plt.ylabel('True label')\n",
    "    plt.xlabel('Predicted label')\n",
    "    plt.tight_layout()\n"
   ]
  },
  {
   "cell_type": "markdown",
   "metadata": {},
   "source": [
    "<h3> Hyperparameters </h3>"
   ]
  },
  {
   "cell_type": "code",
   "execution_count": 5,
   "metadata": {
    "id": "-39H6PNyQI4x"
   },
   "outputs": [],
   "source": [
    "# Hyperparameters\n",
    "num_epochs = 6\n",
    "num_classes = 10\n",
    "batch_size = 64 # Change from 128 to 64\n",
    "learning_rate = 0.0001"
   ]
  },
  {
   "cell_type": "markdown",
   "metadata": {},
   "source": [
    "<h3> Data Loader</h3>"
   ]
  },
  {
   "cell_type": "code",
   "execution_count": 6,
   "metadata": {
    "id": "xLGXeFkz2_yk"
   },
   "outputs": [],
   "source": [
    "# Data loader\n",
    "train_loader = torch.utils.data.DataLoader(dataset=train_dataset,\n",
    "                                           batch_size=batch_size, \n",
    "                                           shuffle=True)\n",
    "\n",
    "test_loader = torch.utils.data.DataLoader(dataset=test_dataset,\n",
    "                                          batch_size=batch_size, \n",
    "                                          shuffle=False)"
   ]
  },
  {
   "cell_type": "markdown",
   "metadata": {
    "id": "zpIzFubFLfBG"
   },
   "source": [
    "## Model P1"
   ]
  },
  {
   "cell_type": "code",
   "execution_count": 7,
   "metadata": {
    "id": "n7nXTSdg2_yn"
   },
   "outputs": [],
   "source": [
    "# Model\n",
    "# Convolutional neural network (two convolutional layers)\n",
    "class ConvNet(nn.Module):\n",
    "    def __init__(self, num_classes=10):\n",
    "        super(ConvNet, self).__init__()\n",
    "        \n",
    "        # Convolutional layer 1\n",
    "        self.layer1 = nn.Sequential(\n",
    "            nn.Conv2d(1, 16, kernel_size=3, stride=1, padding=1),\n",
    "            nn.BatchNorm2d(16), # Add Batch Normalization\n",
    "            nn.ReLU(),\n",
    "            nn.MaxPool2d(kernel_size=2, stride=2)\n",
    "        )\n",
    "        \n",
    "        # Convolutional layer 2\n",
    "        self.layer2 = nn.Sequential(\n",
    "            nn.Conv2d(16, 32, kernel_size=3, stride=1, padding=1),\n",
    "            nn.BatchNorm2d(32),\n",
    "            nn.ReLU(),\n",
    "            nn.MaxPool2d(kernel_size=2, stride=2)\n",
    "        )\n",
    "\n",
    "        # Convolutional layer 3, added one layer\n",
    "        self.layer3 = nn.Sequential(\n",
    "            nn.Conv2d(32, 64, kernel_size=3, stride=1, padding=1),\n",
    "            nn.BatchNorm2d(64),\n",
    "            nn.ReLU(),\n",
    "            nn.MaxPool2d(kernel_size=2, stride=2)\n",
    "        )\n",
    "        \n",
    "        self.fc1 = nn.Linear(3*3*64, 128) # Change parameter accordingly\n",
    "        self.fc2 = nn.Linear(128, num_classes)\n",
    "\n",
    "        self.dropout1 = nn.Dropout(0.25)\n",
    "        self.dropout2 = nn.Dropout(0.5)\n",
    "        \n",
    "    def forward(self, x):\n",
    "        out = self.layer1(x)\n",
    "        out = self.layer2(out)\n",
    "        out = self.layer3(out)\n",
    "        out = out.reshape(out.size(0), -1)\n",
    "        out = self.dropout1(out)\n",
    "        out = self.fc1(out)\n",
    "        out = self.dropout2(out)\n",
    "        out = self.fc2(out)\n",
    "        return out\n",
    "\n",
    "model = ConvNet(num_classes).to(device)"
   ]
  },
  {
   "cell_type": "markdown",
   "metadata": {
    "id": "DQhKowFgy1ty"
   },
   "source": [
    "# Training "
   ]
  },
  {
   "cell_type": "code",
   "execution_count": 8,
   "metadata": {
    "colab": {
     "base_uri": "https://localhost:8080/",
     "height": 1000
    },
    "id": "nL5ha6WXRbYp",
    "outputId": "4783d15b-cb77-4604-971f-0d7f513ea7e2"
   },
   "outputs": [
    {
     "name": "stdout",
     "output_type": "stream",
     "text": [
      "EPOCH [1/12]. Running Loss: 271.92 Progress: 21.33 % \n",
      "EPOCH [1/12]. Running Loss: 357.81 Progress: 42.67 % \n",
      "EPOCH [1/12]. Running Loss: 410.71 Progress: 64.0 % \n",
      "EPOCH [1/12]. Running Loss: 449.79 Progress: 85.33 % \n",
      "Train Avg. Loss: [0.1546] Acc: 0.859 on 60000.0 images\n",
      "Validating...\n",
      "Val Avg. Loss: [0.0236] Acc: 0.9744 on 10000.0 images\n",
      "\n",
      "EPOCH [2/12]. Running Loss: 30.73 Progress: 21.33 % \n",
      "EPOCH [2/12]. Running Loss: 57.9 Progress: 42.67 % \n",
      "EPOCH [2/12]. Running Loss: 81.59 Progress: 64.0 % \n",
      "EPOCH [2/12]. Running Loss: 104.18 Progress: 85.33 % \n",
      "Train Avg. Loss: [0.0395] Acc: 0.9626 on 60000.0 images\n",
      "Validating...\n",
      "Val Avg. Loss: [0.0069] Acc: 0.9831 on 10000.0 images\n",
      "\n",
      "EPOCH [3/12]. Running Loss: 19.52 Progress: 21.33 % \n",
      "EPOCH [3/12]. Running Loss: 37.76 Progress: 42.67 % \n",
      "EPOCH [3/12]. Running Loss: 55.71 Progress: 64.0 % \n",
      "EPOCH [3/12]. Running Loss: 74.22 Progress: 85.33 % \n",
      "Train Avg. Loss: [0.0764] Acc: 0.9716 on 60000.0 images\n",
      "Validating...\n",
      "Val Avg. Loss: [0.0027] Acc: 0.9859 on 10000.0 images\n",
      "\n",
      "EPOCH [4/12]. Running Loss: 14.67 Progress: 21.33 % \n",
      "EPOCH [4/12]. Running Loss: 29.46 Progress: 42.67 % \n",
      "EPOCH [4/12]. Running Loss: 43.49 Progress: 64.0 % \n",
      "EPOCH [4/12]. Running Loss: 58.34 Progress: 85.33 % \n",
      "Train Avg. Loss: [0.0178] Acc: 0.9771 on 60000.0 images\n",
      "Validating...\n",
      "Val Avg. Loss: [0.0026] Acc: 0.9889 on 10000.0 images\n",
      "\n",
      "EPOCH [5/12]. Running Loss: 13.06 Progress: 21.33 % \n",
      "EPOCH [5/12]. Running Loss: 25.77 Progress: 42.67 % \n",
      "EPOCH [5/12]. Running Loss: 38.39 Progress: 64.0 % \n",
      "EPOCH [5/12]. Running Loss: 52.23 Progress: 85.33 % \n",
      "Train Avg. Loss: [0.047] Acc: 0.9805 on 60000.0 images\n",
      "Validating...\n",
      "Val Avg. Loss: [0.002] Acc: 0.9891 on 10000.0 images\n",
      "\n",
      "EPOCH [6/12]. Running Loss: 11.57 Progress: 21.33 % \n",
      "EPOCH [6/12]. Running Loss: 23.39 Progress: 42.67 % \n",
      "EPOCH [6/12]. Running Loss: 35.34 Progress: 64.0 % \n",
      "EPOCH [6/12]. Running Loss: 46.88 Progress: 85.33 % \n",
      "Train Avg. Loss: [0.0111] Acc: 0.982 on 60000.0 images\n",
      "Validating...\n",
      "Val Avg. Loss: [0.0004] Acc: 0.9883 on 10000.0 images\n",
      "\n",
      "EPOCH [7/12]. Running Loss: 11.21 Progress: 21.33 % \n",
      "EPOCH [7/12]. Running Loss: 20.83 Progress: 42.67 % \n",
      "EPOCH [7/12]. Running Loss: 31.64 Progress: 64.0 % \n",
      "EPOCH [7/12]. Running Loss: 42.81 Progress: 85.33 % \n",
      "Train Avg. Loss: [0.0855] Acc: 0.9833 on 60000.0 images\n",
      "Validating...\n",
      "Val Avg. Loss: [0.0003] Acc: 0.9901 on 10000.0 images\n",
      "\n",
      "EPOCH [8/12]. Running Loss: 9.25 Progress: 21.33 % \n",
      "EPOCH [8/12]. Running Loss: 18.48 Progress: 42.67 % \n",
      "EPOCH [8/12]. Running Loss: 27.37 Progress: 64.0 % \n",
      "EPOCH [8/12]. Running Loss: 36.93 Progress: 85.33 % \n",
      "Train Avg. Loss: [0.0205] Acc: 0.9852 on 60000.0 images\n",
      "Validating...\n",
      "Val Avg. Loss: [0.0004] Acc: 0.9893 on 10000.0 images\n",
      "\n",
      "EPOCH [9/12]. Running Loss: 7.58 Progress: 21.33 % \n",
      "EPOCH [9/12]. Running Loss: 16.28 Progress: 42.67 % \n",
      "EPOCH [9/12]. Running Loss: 25.32 Progress: 64.0 % \n",
      "EPOCH [9/12]. Running Loss: 33.86 Progress: 85.33 % \n",
      "Train Avg. Loss: [0.0119] Acc: 0.9866 on 60000.0 images\n",
      "Validating...\n",
      "Val Avg. Loss: [0.0002] Acc: 0.9909 on 10000.0 images\n",
      "\n",
      "EPOCH [10/12]. Running Loss: 7.9 Progress: 21.33 % \n",
      "EPOCH [10/12]. Running Loss: 16.31 Progress: 42.67 % \n",
      "EPOCH [10/12]. Running Loss: 24.37 Progress: 64.0 % \n",
      "EPOCH [10/12]. Running Loss: 32.12 Progress: 85.33 % \n",
      "Train Avg. Loss: [0.3659] Acc: 0.9878 on 60000.0 images\n",
      "Validating...\n",
      "Val Avg. Loss: [0.0004] Acc: 0.9914 on 10000.0 images\n",
      "\n",
      "EPOCH [11/12]. Running Loss: 7.39 Progress: 21.33 % \n",
      "EPOCH [11/12]. Running Loss: 15.18 Progress: 42.67 % \n",
      "EPOCH [11/12]. Running Loss: 22.62 Progress: 64.0 % \n",
      "EPOCH [11/12]. Running Loss: 30.85 Progress: 85.33 % \n",
      "Train Avg. Loss: [0.006] Acc: 0.9882 on 60000.0 images\n",
      "Validating...\n",
      "Val Avg. Loss: [0.0003] Acc: 0.9914 on 10000.0 images\n",
      "\n",
      "EPOCH [12/12]. Running Loss: 7.27 Progress: 21.33 % \n",
      "EPOCH [12/12]. Running Loss: 13.93 Progress: 42.67 % \n",
      "EPOCH [12/12]. Running Loss: 20.96 Progress: 64.0 % \n",
      "EPOCH [12/12]. Running Loss: 27.09 Progress: 85.33 % \n",
      "Train Avg. Loss: [0.0018] Acc: 0.989 on 60000.0 images\n",
      "Validating...\n",
      "Val Avg. Loss: [0.0004] Acc: 0.9921 on 10000.0 images\n",
      "\n",
      "Time Elapsed: 4117.618402 seconds\n"
     ]
    }
   ],
   "source": [
    "# Loss and optimizer\n",
    "criterion = nn.CrossEntropyLoss()\n",
    "optimizer = torch.optim.Adam(model.parameters(), lr=learning_rate)\n",
    "\n",
    "# Keep track of average losses, training accuracy and validation accuracy for each epoch\n",
    "train_loss_history = np.zeros(num_epochs)\n",
    "train_acc_history  = np.zeros(num_epochs)\n",
    "val_loss_history   = np.zeros(num_epochs)\n",
    "val_acc_history    = np.zeros(num_epochs)\n",
    "\n",
    "start_time = datetime.now()\n",
    "\n",
    "for epoch in range(num_epochs):\n",
    "    \n",
    "    # Place network in training mode\n",
    "    model.train()\n",
    "    \n",
    "    # Initialize running epoch loss and number correctly classified\n",
    "    running_loss   = 0.0\n",
    "    num_correct    = 0.0\n",
    "    total_images   = 0.0\n",
    "    \n",
    "    for batch_num, (inputs, labels) in enumerate(train_loader):\n",
    "        # [inputs] and [labels] is one batch of images and their classes\n",
    "        inputs = inputs.to(device)\n",
    "        labels = labels.to(device)\n",
    "        \n",
    "        # Forward pass\n",
    "        outputs = model(inputs)\n",
    "        loss = criterion(outputs, labels)\n",
    "        \n",
    "        # Backward and optimize\n",
    "        optimizer.zero_grad()\n",
    "        loss.backward()\n",
    "        optimizer.step()\n",
    "\n",
    "        # Update statistics for this batch\n",
    "        curr_loss = loss.item()\n",
    "        _, preds = torch.max(outputs, 1)\n",
    "        curr_images = labels.cpu().data.numpy().size\n",
    "        curr_correct = torch.sum(preds == labels.data.reshape(-1))\n",
    "\n",
    "        # Update running statistics for this epoch\n",
    "        running_loss += curr_loss\n",
    "        num_correct += curr_correct\n",
    "        total_images += curr_images\n",
    "\n",
    "        # Log Progress every 200 batches\n",
    "        if (batch_num + 1) % 200 == 0:\n",
    "          log_progress(running_loss, batch_num, batch_size, epoch, num_epochs, train_loader)\n",
    "\n",
    "    # Update statistics for epoch\n",
    "    train_loss_history[epoch] = curr_loss #running_loss / total_images\n",
    "    train_acc_history[epoch]  = float(num_correct)  / float(total_images)\n",
    "    print(\"Train Avg. Loss: [{}] Acc: {} on {} images\".format(\n",
    "        round(train_loss_history[epoch],4), round(train_acc_history[epoch],4), total_images) )\n",
    "    \n",
    "    # ============================ Validation ==============================\n",
    "    print(\"Validating...\")\n",
    "    # Place network in testing mode (won't need to keep track of gradients)\n",
    "    model.eval()\n",
    "    \n",
    "    running_loss   = 0.0\n",
    "    num_correct    = 0.0\n",
    "    total_images   = 0.0\n",
    "    \n",
    "    for batch_num, (inputs, labels) in enumerate(test_loader):\n",
    "        inputs = inputs.to(device)\n",
    "        labels = labels.to(device)\n",
    "\n",
    "        # Propagate batch through network\n",
    "        outputs  = model(inputs)\n",
    "        loss     = criterion(outputs, labels.squeeze())\n",
    "        _, preds = torch.max(outputs, 1)\n",
    "        \n",
    "        # Update statistics for this batch\n",
    "        running_loss  += loss.item()\n",
    "        num_correct   += torch.sum(preds == labels.data.reshape(-1))\n",
    "        total_images  += labels.cpu().data.numpy().size\n",
    "        \n",
    "        # Log Progress every 200 batches\n",
    "        if (batch_num + 1) % 200 == 0:\n",
    "          log_progress(running_loss, batch_num, batch_size, epoch, num_epochs, test_loader)    \n",
    "\n",
    "    # Update statistics for validation data\n",
    "    val_loss_history[epoch] = loss.item() #running_loss / total_images\n",
    "    val_acc_history[epoch]  = float(num_correct)  / float(total_images) \n",
    "    print(\"Val Avg. Loss: [{}] Acc: {} on {} images\\n\".format(\n",
    "        round(val_loss_history[epoch],4), val_acc_history[epoch], total_images))\n",
    "    \n",
    "print(\"Time Elapsed: {} seconds\".format((datetime.now() - start_time).total_seconds()))"
   ]
  },
  {
   "cell_type": "markdown",
   "metadata": {},
   "source": [
    "## Learning curve plots"
   ]
  },
  {
   "cell_type": "code",
   "execution_count": 9,
   "metadata": {},
   "outputs": [
    {
     "data": {
      "image/png": "[encoded data removed]",
      "text/plain": [
       "<Figure size 1100x500 with 2 Axes>"
      ]
     },
     "metadata": {},
     "output_type": "display_data"
    }
   ],
   "source": [
    "plot(train_loss_history, val_loss_history, train_acc_history, val_acc_history)"
   ]
  },
  {
   "cell_type": "markdown",
   "metadata": {},
   "source": [
    "<h2> Testing </h2>"
   ]
  },
  {
   "cell_type": "code",
   "execution_count": 10,
   "metadata": {},
   "outputs": [
    {
     "name": "stdout",
     "output_type": "stream",
     "text": [
      "Test Accuracy of the model on the 10000 test images: 99.21 %\n",
      "Test Loss of the model on the 10000 test images: 0.023921180631830817\n",
      "Time Elapsed: 11.21481 seconds\n"
     ]
    }
   ],
   "source": [
    "# Test the model\n",
    "start_time = datetime.now()\n",
    "ytest = []\n",
    "rtest = np.ones((0,10))\n",
    "model.eval()  # eval mode (batchnorm uses moving mean/variance instead of mini-batch mean/variance)\n",
    "\n",
    "# Define loss function\n",
    "criterion = torch.nn.CrossEntropyLoss()\n",
    "\n",
    "# Initialize variables to calculate total loss\n",
    "total_loss = 0\n",
    "\n",
    "with torch.no_grad():\n",
    "    correct = 0\n",
    "    total = 0\n",
    "    for images, labels in test_loader:\n",
    "        ytest = np.append(ytest, labels)\n",
    "        images = images.to(device)\n",
    "        labels = labels.to(device)\n",
    "        outputs = model(images)\n",
    "\n",
    "        # Calculate loss\n",
    "        loss = criterion(outputs, labels)\n",
    "        total_loss += loss.item()  # Accumulate the loss for averaging later\n",
    "        \n",
    "        _, predicted = torch.max(outputs.data, 1)\n",
    "        total += labels.size(0)\n",
    "        correct += (predicted == labels).sum().item()\n",
    "        rtest = np.append(rtest, outputs, axis=0)\n",
    "\n",
    "# Calculate average loss over the entire test set\n",
    "average_loss = total_loss / len(test_loader)\n",
    "\n",
    "print('Test Accuracy of the model on the 10000 test images: {} %'.format(100 * correct / total))\n",
    "print('Test Loss of the model on the 10000 test images: {}'.format(average_loss))\n",
    "print(\"Time Elapsed: {} seconds\".format((datetime.now() - start_time).total_seconds()))"
   ]
  },
  {
   "cell_type": "code",
   "execution_count": 11,
   "metadata": {},
   "outputs": [
    {
     "name": "stdout",
     "output_type": "stream",
     "text": [
      "Confusion matrix, without normalization\n"
     ]
    },
    {
     "data": {
      "image/png": "[encoded data removed]",
      "text/plain": [
       "<Figure size 640x480 with 2 Axes>"
      ]
     },
     "metadata": {},
     "output_type": "display_data"
    }
   ],
   "source": [
    "cfm = confusion_matrix(ytest, np.argmax (rtest,axis=1))\n",
    "plot_confusion_matrix(cfm, classes=range(10), \n",
    "                      title='Confusion matrix for MNIST')"
   ]
  },
  {
   "cell_type": "code",
   "execution_count": 12,
   "metadata": {},
   "outputs": [],
   "source": [
    "# Save the model checkpoint\n",
    "torch.save(model.state_dict(), 'model.ckpt')"
   ]
  }
 ],
 "metadata": {
  "accelerator": "GPU",
  "colab": {
   "collapsed_sections": [],
   "name": "MNIST_Stabile.ipynb",
   "provenance": [],
   "toc_visible": true
  },
  "kernelspec": {
   "display_name": "Python 3 (ipykernel)",
   "language": "python",
   "name": "python3"
  },
  "language_info": {
   "codemirror_mode": {
    "name": "ipython",
    "version": 3
   },
   "file_extension": ".py",
   "mimetype": "text/x-python",
   "name": "python",
   "nbconvert_exporter": "python",
   "pygments_lexer": "ipython3",
   "version": "3.10.10"
  }
 },
 "nbformat": 4,
 "nbformat_minor": 4
}
